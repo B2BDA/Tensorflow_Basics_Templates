{
  "nbformat": 4,
  "nbformat_minor": 0,
  "metadata": {
    "colab": {
      "name": "Tensorflow_Basics_2.x.ipynb",
      "provenance": [],
      "collapsed_sections": [],
      "authorship_tag": "ABX9TyMIqBFYSceSKxDT3tP05MUy",
      "include_colab_link": true
    },
    "kernelspec": {
      "name": "python3",
      "display_name": "Python 3"
    }
  },
  "cells": [
    {
      "cell_type": "markdown",
      "metadata": {
        "id": "view-in-github",
        "colab_type": "text"
      },
      "source": [
        "<a href=\"https://colab.research.google.com/github/B2BDA/Tensorflow_Basics_Templates/blob/main/Tensorflow_Basics_2_x.ipynb\" target=\"_parent\"><img src=\"https://colab.research.google.com/assets/colab-badge.svg\" alt=\"Open In Colab\"/></a>"
      ]
    },
    {
      "cell_type": "code",
      "metadata": {
        "id": "phExbe381XOc"
      },
      "source": [
        "import tensorflow as tf\n",
        "import numpy as np"
      ],
      "execution_count": 1,
      "outputs": []
    },
    {
      "cell_type": "code",
      "metadata": {
        "colab": {
          "base_uri": "https://localhost:8080/"
        },
        "id": "oq5CYoB01eQ8",
        "outputId": "9fec461d-3f6f-43c9-ec0e-9a857825d3ef"
      },
      "source": [
        "print(tf.__version__)"
      ],
      "execution_count": 4,
      "outputs": [
        {
          "output_type": "stream",
          "text": [
            "2.3.0\n"
          ],
          "name": "stdout"
        }
      ]
    },
    {
      "cell_type": "markdown",
      "metadata": {
        "id": "aeiMI6Nf1qYp"
      },
      "source": [
        "In tensorflow 2.x  there is no concept of session. Varaibles can be created using .variable(), .constant(). "
      ]
    },
    {
      "cell_type": "code",
      "metadata": {
        "colab": {
          "base_uri": "https://localhost:8080/"
        },
        "id": "VEdfODZT1kSv",
        "outputId": "ca42706d-b124-498e-cb9c-58d12b3ba01a"
      },
      "source": [
        "cons = tf.constant(10)\n",
        "cons"
      ],
      "execution_count": 6,
      "outputs": [
        {
          "output_type": "execute_result",
          "data": {
            "text/plain": [
              "<tf.Tensor: shape=(), dtype=int32, numpy=10>"
            ]
          },
          "metadata": {
            "tags": []
          },
          "execution_count": 6
        }
      ]
    },
    {
      "cell_type": "code",
      "metadata": {
        "colab": {
          "base_uri": "https://localhost:8080/"
        },
        "id": "XWz9pLM913WE",
        "outputId": "38eb6b7f-837a-4e69-fe5a-041c8c8b5731"
      },
      "source": [
        "var = tf.Variable(10)\n",
        "var"
      ],
      "execution_count": 7,
      "outputs": [
        {
          "output_type": "execute_result",
          "data": {
            "text/plain": [
              "<tf.Variable 'Variable:0' shape=() dtype=int32, numpy=10>"
            ]
          },
          "metadata": {
            "tags": []
          },
          "execution_count": 7
        }
      ]
    },
    {
      "cell_type": "code",
      "metadata": {
        "colab": {
          "base_uri": "https://localhost:8080/"
        },
        "id": "juePCkgG19FM",
        "outputId": "19fa2a5d-92e1-4268-de1e-3bf7d8455e37"
      },
      "source": [
        "tf.config.list_physical_devices('GPU')"
      ],
      "execution_count": 10,
      "outputs": [
        {
          "output_type": "execute_result",
          "data": {
            "text/plain": [
              "[]"
            ]
          },
          "metadata": {
            "tags": []
          },
          "execution_count": 10
        }
      ]
    },
    {
      "cell_type": "code",
      "metadata": {
        "colab": {
          "base_uri": "https://localhost:8080/"
        },
        "id": "o7iL_SvJ2LmS",
        "outputId": "b6ec226e-bff6-4b89-d79b-969ff36f6182"
      },
      "source": [
        "tf.constant([[1,2],[3,4]])"
      ],
      "execution_count": 11,
      "outputs": [
        {
          "output_type": "execute_result",
          "data": {
            "text/plain": [
              "<tf.Tensor: shape=(2, 2), dtype=int32, numpy=\n",
              "array([[1, 2],\n",
              "       [3, 4]], dtype=int32)>"
            ]
          },
          "metadata": {
            "tags": []
          },
          "execution_count": 11
        }
      ]
    },
    {
      "cell_type": "code",
      "metadata": {
        "colab": {
          "base_uri": "https://localhost:8080/"
        },
        "id": "hk-uTQWd3Rbv",
        "outputId": "9bc205b8-60f5-4b4a-eb5f-df0f0b572916"
      },
      "source": [
        "tf.constant([[1,2],[3,4]], dtype = tf.float32)"
      ],
      "execution_count": 12,
      "outputs": [
        {
          "output_type": "execute_result",
          "data": {
            "text/plain": [
              "<tf.Tensor: shape=(2, 2), dtype=float32, numpy=\n",
              "array([[1., 2.],\n",
              "       [3., 4.]], dtype=float32)>"
            ]
          },
          "metadata": {
            "tags": []
          },
          "execution_count": 12
        }
      ]
    },
    {
      "cell_type": "markdown",
      "metadata": {
        "id": "CO6ovu203swf"
      },
      "source": [
        "Addition - Element wise"
      ]
    },
    {
      "cell_type": "code",
      "metadata": {
        "colab": {
          "base_uri": "https://localhost:8080/"
        },
        "id": "fnxHqiBL3T-T",
        "outputId": "ccd9a5fc-facd-4052-d26b-6f89b493de02"
      },
      "source": [
        "tf.add(tf.Variable([[1,2],[3,4]]),tf.Variable([[1,2],[3,4]]))"
      ],
      "execution_count": 15,
      "outputs": [
        {
          "output_type": "execute_result",
          "data": {
            "text/plain": [
              "<tf.Tensor: shape=(2, 2), dtype=int32, numpy=\n",
              "array([[2, 4],\n",
              "       [6, 8]], dtype=int32)>"
            ]
          },
          "metadata": {
            "tags": []
          },
          "execution_count": 15
        }
      ]
    },
    {
      "cell_type": "markdown",
      "metadata": {
        "id": "mBFp7Qo730Cg"
      },
      "source": [
        "Matrix Multiplication\n"
      ]
    },
    {
      "cell_type": "code",
      "metadata": {
        "colab": {
          "base_uri": "https://localhost:8080/"
        },
        "id": "AK1kcKwJ3wh7",
        "outputId": "959122b2-01ca-4883-b76d-1709bcb06ef5"
      },
      "source": [
        "tf.matmul(tf.Variable([[1,2],[3,4]]),tf.Variable([[1,2],[3,4]]))"
      ],
      "execution_count": 17,
      "outputs": [
        {
          "output_type": "execute_result",
          "data": {
            "text/plain": [
              "<tf.Tensor: shape=(2, 2), dtype=int32, numpy=\n",
              "array([[ 7, 10],\n",
              "       [15, 22]], dtype=int32)>"
            ]
          },
          "metadata": {
            "tags": []
          },
          "execution_count": 17
        }
      ]
    },
    {
      "cell_type": "markdown",
      "metadata": {
        "id": "NhuCYxgI5E_m"
      },
      "source": [
        "Random varaibles"
      ]
    },
    {
      "cell_type": "code",
      "metadata": {
        "colab": {
          "base_uri": "https://localhost:8080/"
        },
        "id": "LxgO7wsp3ygU",
        "outputId": "97a55684-10d6-4403-e7ac-fc1b98a6c0f8"
      },
      "source": [
        "tf.random.normal(shape = (2,2), mean = 0, stddev = 1)"
      ],
      "execution_count": 18,
      "outputs": [
        {
          "output_type": "execute_result",
          "data": {
            "text/plain": [
              "<tf.Tensor: shape=(2, 2), dtype=float32, numpy=\n",
              "array([[-0.46287465,  0.8723945 ],\n",
              "       [ 1.1053027 ,  0.68376154]], dtype=float32)>"
            ]
          },
          "metadata": {
            "tags": []
          },
          "execution_count": 18
        }
      ]
    },
    {
      "cell_type": "code",
      "metadata": {
        "colab": {
          "base_uri": "https://localhost:8080/"
        },
        "id": "H2OHJpu5C9te",
        "outputId": "432241ec-3a0a-4af1-d8ba-7ee53f393c45"
      },
      "source": [
        "tf.random.uniform(shape = (2,2), minval = 0, maxval = 1, dtype = tf.float64)"
      ],
      "execution_count": 23,
      "outputs": [
        {
          "output_type": "execute_result",
          "data": {
            "text/plain": [
              "<tf.Tensor: shape=(2, 2), dtype=float64, numpy=\n",
              "array([[0.66522296, 0.99943558],\n",
              "       [0.73554915, 0.38860229]])>"
            ]
          },
          "metadata": {
            "tags": []
          },
          "execution_count": 23
        }
      ]
    },
    {
      "cell_type": "markdown",
      "metadata": {
        "id": "jUf5ipbpDSwH"
      },
      "source": [
        "Reassigning a variable\n",
        "\n"
      ]
    },
    {
      "cell_type": "code",
      "metadata": {
        "colab": {
          "base_uri": "https://localhost:8080/"
        },
        "id": "kg1MeUIIDSPM",
        "outputId": "94fb3023-77d1-4963-d6dc-bd5c3a6c293d"
      },
      "source": [
        "var"
      ],
      "execution_count": 24,
      "outputs": [
        {
          "output_type": "execute_result",
          "data": {
            "text/plain": [
              "<tf.Variable 'Variable:0' shape=() dtype=int32, numpy=10>"
            ]
          },
          "metadata": {
            "tags": []
          },
          "execution_count": 24
        }
      ]
    },
    {
      "cell_type": "code",
      "metadata": {
        "colab": {
          "base_uri": "https://localhost:8080/"
        },
        "id": "WxDp7BscDX7u",
        "outputId": "5430b9b8-476a-4d19-a96b-043a5da0989f"
      },
      "source": [
        "var.assign(15)"
      ],
      "execution_count": 25,
      "outputs": [
        {
          "output_type": "execute_result",
          "data": {
            "text/plain": [
              "<tf.Variable 'UnreadVariable' shape=() dtype=int32, numpy=15>"
            ]
          },
          "metadata": {
            "tags": []
          },
          "execution_count": 25
        }
      ]
    },
    {
      "cell_type": "code",
      "metadata": {
        "colab": {
          "base_uri": "https://localhost:8080/"
        },
        "id": "ObfSBdFXDkNX",
        "outputId": "4d48f637-a157-4469-bbeb-45e7b1263b9e"
      },
      "source": [
        "var = tf.Variable([[1,2],[3,4]])\n",
        "var"
      ],
      "execution_count": 27,
      "outputs": [
        {
          "output_type": "execute_result",
          "data": {
            "text/plain": [
              "<tf.Variable 'Variable:0' shape=(2, 2) dtype=int32, numpy=\n",
              "array([[1, 2],\n",
              "       [3, 4]], dtype=int32)>"
            ]
          },
          "metadata": {
            "tags": []
          },
          "execution_count": 27
        }
      ]
    },
    {
      "cell_type": "code",
      "metadata": {
        "colab": {
          "base_uri": "https://localhost:8080/"
        },
        "id": "4j-1zrtSDsXe",
        "outputId": "b5a7f7c5-f3d3-4149-e899-2f769398fc1c"
      },
      "source": [
        "var.assign_add([[5,6],[7,8]])"
      ],
      "execution_count": 30,
      "outputs": [
        {
          "output_type": "execute_result",
          "data": {
            "text/plain": [
              "<tf.Variable 'UnreadVariable' shape=(2, 2) dtype=int32, numpy=\n",
              "array([[ 6,  8],\n",
              "       [10, 12]], dtype=int32)>"
            ]
          },
          "metadata": {
            "tags": []
          },
          "execution_count": 30
        }
      ]
    },
    {
      "cell_type": "code",
      "metadata": {
        "colab": {
          "base_uri": "https://localhost:8080/"
        },
        "id": "XC3UGXk8FI6q",
        "outputId": "b4f3e610-8aaa-40a4-a14d-cc7c7e04ce25"
      },
      "source": [
        "tensor = tf.Variable([ [ [10., 11., 12.], [13., 14., 15.] ], [ [16., 17., 18.], [19., 20., 21.] ] ])\n",
        "tensor.shape"
      ],
      "execution_count": 47,
      "outputs": [
        {
          "output_type": "execute_result",
          "data": {
            "text/plain": [
              "TensorShape([2, 2, 3])"
            ]
          },
          "metadata": {
            "tags": []
          },
          "execution_count": 47
        }
      ]
    },
    {
      "cell_type": "code",
      "metadata": {
        "colab": {
          "base_uri": "https://localhost:8080/"
        },
        "id": "cThu6lsJFmvB",
        "outputId": "86323681-eb30-4a00-f50d-8afcec37d204"
      },
      "source": [
        "tensor"
      ],
      "execution_count": 48,
      "outputs": [
        {
          "output_type": "execute_result",
          "data": {
            "text/plain": [
              "<tf.Variable 'Variable:0' shape=(2, 2, 3) dtype=float32, numpy=\n",
              "array([[[10., 11., 12.],\n",
              "        [13., 14., 15.]],\n",
              "\n",
              "       [[16., 17., 18.],\n",
              "        [19., 20., 21.]]], dtype=float32)>"
            ]
          },
          "metadata": {
            "tags": []
          },
          "execution_count": 48
        }
      ]
    },
    {
      "cell_type": "markdown",
      "metadata": {
        "id": "yXyL3JDOFsQ0"
      },
      "source": [
        "This tensor can be reshaped in any ways but it always has to be a factor of the multiplicationsof the dimensions ie 3*2*2 = 12 so 12!\n"
      ]
    },
    {
      "cell_type": "code",
      "metadata": {
        "colab": {
          "base_uri": "https://localhost:8080/"
        },
        "id": "gVwto3QHFrKe",
        "outputId": "77d8ff49-dc5a-422e-a37e-49a446a2781a"
      },
      "source": [
        "tf.reshape(tensor, (6,2))"
      ],
      "execution_count": 35,
      "outputs": [
        {
          "output_type": "execute_result",
          "data": {
            "text/plain": [
              "<tf.Tensor: shape=(6, 2), dtype=float32, numpy=\n",
              "array([[10., 11.],\n",
              "       [12., 13.],\n",
              "       [14., 15.],\n",
              "       [16., 17.],\n",
              "       [18., 19.],\n",
              "       [20., 21.]], dtype=float32)>"
            ]
          },
          "metadata": {
            "tags": []
          },
          "execution_count": 35
        }
      ]
    },
    {
      "cell_type": "code",
      "metadata": {
        "colab": {
          "base_uri": "https://localhost:8080/"
        },
        "id": "f4U8u345F-fL",
        "outputId": "0c80ef00-00d2-4ae3-e737-3a905d4d4d79"
      },
      "source": [
        "tf.reshape(tensor, (2,6))"
      ],
      "execution_count": 36,
      "outputs": [
        {
          "output_type": "execute_result",
          "data": {
            "text/plain": [
              "<tf.Tensor: shape=(2, 6), dtype=float32, numpy=\n",
              "array([[10., 11., 12., 13., 14., 15.],\n",
              "       [16., 17., 18., 19., 20., 21.]], dtype=float32)>"
            ]
          },
          "metadata": {
            "tags": []
          },
          "execution_count": 36
        }
      ]
    },
    {
      "cell_type": "code",
      "metadata": {
        "colab": {
          "base_uri": "https://localhost:8080/"
        },
        "id": "mXqE05qFF_4X",
        "outputId": "8be15234-c4a6-47eb-af50-0746636c8320"
      },
      "source": [
        "ten = tf.reshape(tensor, (4,3,1))\n",
        "ten"
      ],
      "execution_count": 39,
      "outputs": [
        {
          "output_type": "execute_result",
          "data": {
            "text/plain": [
              "<tf.Tensor: shape=(4, 3, 1), dtype=float32, numpy=\n",
              "array([[[10.],\n",
              "        [11.],\n",
              "        [12.]],\n",
              "\n",
              "       [[13.],\n",
              "        [14.],\n",
              "        [15.]],\n",
              "\n",
              "       [[16.],\n",
              "        [17.],\n",
              "        [18.]],\n",
              "\n",
              "       [[19.],\n",
              "        [20.],\n",
              "        [21.]]], dtype=float32)>"
            ]
          },
          "metadata": {
            "tags": []
          },
          "execution_count": 39
        }
      ]
    },
    {
      "cell_type": "code",
      "metadata": {
        "colab": {
          "base_uri": "https://localhost:8080/"
        },
        "id": "qkhkJ-QYGUA1",
        "outputId": "a9330eb6-8743-4c17-dba8-4a3fa2e24877"
      },
      "source": [
        "ten[2,1]"
      ],
      "execution_count": 46,
      "outputs": [
        {
          "output_type": "execute_result",
          "data": {
            "text/plain": [
              "<tf.Tensor: shape=(1,), dtype=float32, numpy=array([17.], dtype=float32)>"
            ]
          },
          "metadata": {
            "tags": []
          },
          "execution_count": 46
        }
      ]
    },
    {
      "cell_type": "code",
      "metadata": {
        "colab": {
          "base_uri": "https://localhost:8080/"
        },
        "id": "O6zHr5ZeGyBk",
        "outputId": "69908c16-e082-4e62-ef8f-ffb1beeb7e05"
      },
      "source": [
        "tensor"
      ],
      "execution_count": 49,
      "outputs": [
        {
          "output_type": "execute_result",
          "data": {
            "text/plain": [
              "<tf.Variable 'Variable:0' shape=(2, 2, 3) dtype=float32, numpy=\n",
              "array([[[10., 11., 12.],\n",
              "        [13., 14., 15.]],\n",
              "\n",
              "       [[16., 17., 18.],\n",
              "        [19., 20., 21.]]], dtype=float32)>"
            ]
          },
          "metadata": {
            "tags": []
          },
          "execution_count": 49
        }
      ]
    },
    {
      "cell_type": "code",
      "metadata": {
        "colab": {
          "base_uri": "https://localhost:8080/"
        },
        "id": "mVOgkWG3GzE1",
        "outputId": "a31bb5b3-20b5-4555-e00e-ac4d1e939947"
      },
      "source": [
        "tensor[1,0,1]"
      ],
      "execution_count": 51,
      "outputs": [
        {
          "output_type": "execute_result",
          "data": {
            "text/plain": [
              "<tf.Tensor: shape=(), dtype=float32, numpy=17.0>"
            ]
          },
          "metadata": {
            "tags": []
          },
          "execution_count": 51
        }
      ]
    },
    {
      "cell_type": "code",
      "metadata": {
        "colab": {
          "base_uri": "https://localhost:8080/"
        },
        "id": "Q71hLIuzHAzd",
        "outputId": "17c5f206-82fd-480c-f57d-1645c4304887"
      },
      "source": [
        "# Convert the output to numpy\n",
        "tensor[1,0,1].numpy()"
      ],
      "execution_count": 52,
      "outputs": [
        {
          "output_type": "execute_result",
          "data": {
            "text/plain": [
              "17.0"
            ]
          },
          "metadata": {
            "tags": []
          },
          "execution_count": 52
        }
      ]
    },
    {
      "cell_type": "code",
      "metadata": {
        "colab": {
          "base_uri": "https://localhost:8080/"
        },
        "id": "Ef7R5zOrHVid",
        "outputId": "96cd0b32-d345-4972-997a-699587d67563"
      },
      "source": [
        "# Lenght or size of a tensor ie number of elements inside the tensor\n",
        "tf.size(tensor).numpy()"
      ],
      "execution_count": 54,
      "outputs": [
        {
          "output_type": "execute_result",
          "data": {
            "text/plain": [
              "12"
            ]
          },
          "metadata": {
            "tags": []
          },
          "execution_count": 54
        }
      ]
    },
    {
      "cell_type": "code",
      "metadata": {
        "colab": {
          "base_uri": "https://localhost:8080/"
        },
        "id": "PJJproxTJCMC",
        "outputId": "f80cd0f6-2897-45a8-b1a5-a30a70ccd5b0"
      },
      "source": [
        "tf.transpose(tensor)"
      ],
      "execution_count": 56,
      "outputs": [
        {
          "output_type": "execute_result",
          "data": {
            "text/plain": [
              "<tf.Tensor: shape=(3, 2, 2), dtype=float32, numpy=\n",
              "array([[[10., 16.],\n",
              "        [13., 19.]],\n",
              "\n",
              "       [[11., 17.],\n",
              "        [14., 20.]],\n",
              "\n",
              "       [[12., 18.],\n",
              "        [15., 21.]]], dtype=float32)>"
            ]
          },
          "metadata": {
            "tags": []
          },
          "execution_count": 56
        }
      ]
    },
    {
      "cell_type": "code",
      "metadata": {
        "colab": {
          "base_uri": "https://localhost:8080/"
        },
        "id": "8UHE9lnvJKFb",
        "outputId": "afbe8d15-8e7f-46c7-ed27-a3837db4e21d"
      },
      "source": [
        "tf.cast(tensor,dtype = tf.float64)"
      ],
      "execution_count": 57,
      "outputs": [
        {
          "output_type": "execute_result",
          "data": {
            "text/plain": [
              "<tf.Tensor: shape=(2, 2, 3), dtype=float64, numpy=\n",
              "array([[[10., 11., 12.],\n",
              "        [13., 14., 15.]],\n",
              "\n",
              "       [[16., 17., 18.],\n",
              "        [19., 20., 21.]]])>"
            ]
          },
          "metadata": {
            "tags": []
          },
          "execution_count": 57
        }
      ]
    },
    {
      "cell_type": "code",
      "metadata": {
        "colab": {
          "base_uri": "https://localhost:8080/"
        },
        "id": "jEZBWrUXKs5D",
        "outputId": "9c76a1d6-940e-4a2a-d12a-e278123eb8e3"
      },
      "source": [
        "Tensor = tf.reshape(tensor, shape = (3,4))\n",
        "Tensor"
      ],
      "execution_count": 66,
      "outputs": [
        {
          "output_type": "execute_result",
          "data": {
            "text/plain": [
              "<tf.Tensor: shape=(3, 4), dtype=float32, numpy=\n",
              "array([[10., 11., 12., 13.],\n",
              "       [14., 15., 16., 17.],\n",
              "       [18., 19., 20., 21.]], dtype=float32)>"
            ]
          },
          "metadata": {
            "tags": []
          },
          "execution_count": 66
        }
      ]
    },
    {
      "cell_type": "code",
      "metadata": {
        "colab": {
          "base_uri": "https://localhost:8080/"
        },
        "id": "oRO7i5jVKBjv",
        "outputId": "30111baa-bb0b-4422-b733-e08497f74f4d"
      },
      "source": [
        "tf.reduce_mean(Tensor, axis = 0, keepdims = True) # axis = 0 means row wise but the operation happens over the columns"
      ],
      "execution_count": 70,
      "outputs": [
        {
          "output_type": "execute_result",
          "data": {
            "text/plain": [
              "<tf.Tensor: shape=(1, 4), dtype=float32, numpy=array([[14., 15., 16., 17.]], dtype=float32)>"
            ]
          },
          "metadata": {
            "tags": []
          },
          "execution_count": 70
        }
      ]
    },
    {
      "cell_type": "code",
      "metadata": {
        "colab": {
          "base_uri": "https://localhost:8080/"
        },
        "id": "RzpiI27WJvlv",
        "outputId": "07703436-ca19-4d61-bede-f77f7a05f0ea"
      },
      "source": [
        "tf.reduce_mean(Tensor, axis = 1) # axis = 1 means col wise but the operation happens over the rows"
      ],
      "execution_count": 69,
      "outputs": [
        {
          "output_type": "execute_result",
          "data": {
            "text/plain": [
              "<tf.Tensor: shape=(3,), dtype=float32, numpy=array([11.5, 15.5, 19.5], dtype=float32)>"
            ]
          },
          "metadata": {
            "tags": []
          },
          "execution_count": 69
        }
      ]
    },
    {
      "cell_type": "code",
      "metadata": {
        "id": "-UWvyzGuLCsz"
      },
      "source": [
        "dice11 = tf.Variable(tf.random.uniform(shape = (10, 1), minval=1, maxval=7, dtype=tf.int32))\n",
        "dice12 = tf.Variable(tf.random.uniform([10, 1], minval=1, maxval=7, dtype=tf.int32))\n",
        "dice_sum1 = dice11 + dice12"
      ],
      "execution_count": 78,
      "outputs": []
    },
    {
      "cell_type": "code",
      "metadata": {
        "colab": {
          "base_uri": "https://localhost:8080/"
        },
        "id": "yly4SQTgMxJz",
        "outputId": "3abe1a76-26ca-4493-fadd-baa20148fe76"
      },
      "source": [
        "tf.concat([dice11, dice12, dice_sum1], axis = 1)"
      ],
      "execution_count": 82,
      "outputs": [
        {
          "output_type": "execute_result",
          "data": {
            "text/plain": [
              "<tf.Tensor: shape=(10, 3), dtype=int32, numpy=\n",
              "array([[ 1,  2,  3],\n",
              "       [ 1,  2,  3],\n",
              "       [ 2,  3,  5],\n",
              "       [ 4,  5,  9],\n",
              "       [ 6,  1,  7],\n",
              "       [ 6,  5, 11],\n",
              "       [ 3,  2,  5],\n",
              "       [ 5,  6, 11],\n",
              "       [ 2,  5,  7],\n",
              "       [ 2,  1,  3]], dtype=int32)>"
            ]
          },
          "metadata": {
            "tags": []
          },
          "execution_count": 82
        }
      ]
    },
    {
      "cell_type": "code",
      "metadata": {
        "colab": {
          "base_uri": "https://localhost:8080/"
        },
        "id": "_bV2iGOHMo7D",
        "outputId": "899711aa-d5e4-4f4f-a57c-00fa23f69e00"
      },
      "source": [
        "tf.concat([dice11, dice12, dice_sum1], axis = 0)"
      ],
      "execution_count": 80,
      "outputs": [
        {
          "output_type": "execute_result",
          "data": {
            "text/plain": [
              "<tf.Tensor: shape=(30, 1), dtype=int32, numpy=\n",
              "array([[ 1],\n",
              "       [ 1],\n",
              "       [ 2],\n",
              "       [ 4],\n",
              "       [ 6],\n",
              "       [ 6],\n",
              "       [ 3],\n",
              "       [ 5],\n",
              "       [ 2],\n",
              "       [ 2],\n",
              "       [ 2],\n",
              "       [ 2],\n",
              "       [ 3],\n",
              "       [ 5],\n",
              "       [ 1],\n",
              "       [ 5],\n",
              "       [ 2],\n",
              "       [ 6],\n",
              "       [ 5],\n",
              "       [ 1],\n",
              "       [ 3],\n",
              "       [ 3],\n",
              "       [ 5],\n",
              "       [ 9],\n",
              "       [ 7],\n",
              "       [11],\n",
              "       [ 5],\n",
              "       [11],\n",
              "       [ 7],\n",
              "       [ 3]], dtype=int32)>"
            ]
          },
          "metadata": {
            "tags": []
          },
          "execution_count": 80
        }
      ]
    },
    {
      "cell_type": "markdown",
      "metadata": {
        "id": "bO4BAQpONpzX"
      },
      "source": [
        "Checkpoint in tensorflow"
      ]
    },
    {
      "cell_type": "code",
      "metadata": {
        "colab": {
          "base_uri": "https://localhost:8080/"
        },
        "id": "8IQZoS5RM6oB",
        "outputId": "9a525031-1118-44ec-95f1-4e7e5467892d"
      },
      "source": [
        "variable1 = tf.Variable([[5,6,9,3],[14,15,16,18]])\n",
        "checkpoint= tf.train.Checkpoint(var=variable1)\n",
        "savepath = checkpoint.save('./vars')\n",
        "variable1.assign([[0,0,0,0],[0,0,0,0]])\n",
        "variable1\n",
        "checkpoint.restore(savepath)\n",
        "print(variable1)"
      ],
      "execution_count": 84,
      "outputs": [
        {
          "output_type": "stream",
          "text": [
            "<tf.Variable 'Variable:0' shape=(2, 4) dtype=int32, numpy=\n",
            "array([[ 5,  6,  9,  3],\n",
            "       [14, 15, 16, 18]], dtype=int32)>\n"
          ],
          "name": "stdout"
        }
      ]
    },
    {
      "cell_type": "code",
      "metadata": {
        "id": "uWpVae_fNvtf"
      },
      "source": [
        ""
      ],
      "execution_count": null,
      "outputs": []
    }
  ]
}